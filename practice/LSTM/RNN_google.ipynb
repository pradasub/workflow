{
 "cells": [
  {
   "cell_type": "code",
   "execution_count": 32,
   "metadata": {},
   "outputs": [],
   "source": [
    "import numpy as np\n",
    "import pandas as pd\n",
    "import matplotlib.pyplot as plt\n",
    "import os\n",
    "%matplotlib inline"
   ]
  },
  {
   "cell_type": "code",
   "execution_count": 33,
   "metadata": {},
   "outputs": [],
   "source": [
    "os.chdir(\"C:/Users/pz413sz/Documents/test_workflows\")\n",
    "data_path = \"datasets/HistoricalQuotes.csv\""
   ]
  },
  {
   "cell_type": "code",
   "execution_count": 34,
   "metadata": {},
   "outputs": [],
   "source": [
    "stock_data = pd.read_csv(data_path)"
   ]
  },
  {
   "cell_type": "code",
   "execution_count": 35,
   "metadata": {},
   "outputs": [
    {
     "data": {
      "text/html": [
       "<div>\n",
       "<style scoped>\n",
       "    .dataframe tbody tr th:only-of-type {\n",
       "        vertical-align: middle;\n",
       "    }\n",
       "\n",
       "    .dataframe tbody tr th {\n",
       "        vertical-align: top;\n",
       "    }\n",
       "\n",
       "    .dataframe thead th {\n",
       "        text-align: right;\n",
       "    }\n",
       "</style>\n",
       "<table border=\"1\" class=\"dataframe\">\n",
       "  <thead>\n",
       "    <tr style=\"text-align: right;\">\n",
       "      <th></th>\n",
       "      <th>date</th>\n",
       "      <th>close</th>\n",
       "      <th>volume</th>\n",
       "      <th>open</th>\n",
       "      <th>high</th>\n",
       "      <th>low</th>\n",
       "    </tr>\n",
       "  </thead>\n",
       "  <tbody>\n",
       "    <tr>\n",
       "      <th>0</th>\n",
       "      <td>14:52</td>\n",
       "      <td>1,087.5058</td>\n",
       "      <td>1,017,434</td>\n",
       "      <td>1,112.66</td>\n",
       "      <td>1,114.35</td>\n",
       "      <td>1,084.42</td>\n",
       "    </tr>\n",
       "    <tr>\n",
       "      <th>1</th>\n",
       "      <td>2019/06/24</td>\n",
       "      <td>1115.5200</td>\n",
       "      <td>1395696.0000</td>\n",
       "      <td>1119.6100</td>\n",
       "      <td>1122.0000</td>\n",
       "      <td>1111.0100</td>\n",
       "    </tr>\n",
       "    <tr>\n",
       "      <th>2</th>\n",
       "      <td>2019/06/21</td>\n",
       "      <td>1121.8800</td>\n",
       "      <td>1947591.0000</td>\n",
       "      <td>1109.2400</td>\n",
       "      <td>1124.1100</td>\n",
       "      <td>1108.0800</td>\n",
       "    </tr>\n",
       "    <tr>\n",
       "      <th>3</th>\n",
       "      <td>2019/06/20</td>\n",
       "      <td>1111.4200</td>\n",
       "      <td>1262011.0000</td>\n",
       "      <td>1119.9900</td>\n",
       "      <td>1120.1200</td>\n",
       "      <td>1104.7400</td>\n",
       "    </tr>\n",
       "    <tr>\n",
       "      <th>4</th>\n",
       "      <td>2019/06/19</td>\n",
       "      <td>1102.3300</td>\n",
       "      <td>1339218.0000</td>\n",
       "      <td>1105.6000</td>\n",
       "      <td>1107.0000</td>\n",
       "      <td>1093.4800</td>\n",
       "    </tr>\n",
       "  </tbody>\n",
       "</table>\n",
       "</div>"
      ],
      "text/plain": [
       "         date       close        volume       open       high        low\n",
       "0       14:52  1,087.5058     1,017,434   1,112.66   1,114.35   1,084.42\n",
       "1  2019/06/24   1115.5200  1395696.0000  1119.6100  1122.0000  1111.0100\n",
       "2  2019/06/21   1121.8800  1947591.0000  1109.2400  1124.1100  1108.0800\n",
       "3  2019/06/20   1111.4200  1262011.0000  1119.9900  1120.1200  1104.7400\n",
       "4  2019/06/19   1102.3300  1339218.0000  1105.6000  1107.0000  1093.4800"
      ]
     },
     "execution_count": 35,
     "metadata": {},
     "output_type": "execute_result"
    }
   ],
   "source": [
    "stock_data.head()"
   ]
  },
  {
   "cell_type": "code",
   "execution_count": 36,
   "metadata": {},
   "outputs": [],
   "source": [
    "stock_data.drop([0], axis = 0, inplace = True)"
   ]
  },
  {
   "cell_type": "code",
   "execution_count": 37,
   "metadata": {},
   "outputs": [
    {
     "data": {
      "text/html": [
       "<div>\n",
       "<style scoped>\n",
       "    .dataframe tbody tr th:only-of-type {\n",
       "        vertical-align: middle;\n",
       "    }\n",
       "\n",
       "    .dataframe tbody tr th {\n",
       "        vertical-align: top;\n",
       "    }\n",
       "\n",
       "    .dataframe thead th {\n",
       "        text-align: right;\n",
       "    }\n",
       "</style>\n",
       "<table border=\"1\" class=\"dataframe\">\n",
       "  <thead>\n",
       "    <tr style=\"text-align: right;\">\n",
       "      <th></th>\n",
       "      <th>date</th>\n",
       "      <th>close</th>\n",
       "      <th>volume</th>\n",
       "      <th>open</th>\n",
       "      <th>high</th>\n",
       "      <th>low</th>\n",
       "    </tr>\n",
       "  </thead>\n",
       "  <tbody>\n",
       "    <tr>\n",
       "      <th>1</th>\n",
       "      <td>2019/06/24</td>\n",
       "      <td>1115.5200</td>\n",
       "      <td>1395696.0000</td>\n",
       "      <td>1119.6100</td>\n",
       "      <td>1122.0000</td>\n",
       "      <td>1111.0100</td>\n",
       "    </tr>\n",
       "    <tr>\n",
       "      <th>2</th>\n",
       "      <td>2019/06/21</td>\n",
       "      <td>1121.8800</td>\n",
       "      <td>1947591.0000</td>\n",
       "      <td>1109.2400</td>\n",
       "      <td>1124.1100</td>\n",
       "      <td>1108.0800</td>\n",
       "    </tr>\n",
       "    <tr>\n",
       "      <th>3</th>\n",
       "      <td>2019/06/20</td>\n",
       "      <td>1111.4200</td>\n",
       "      <td>1262011.0000</td>\n",
       "      <td>1119.9900</td>\n",
       "      <td>1120.1200</td>\n",
       "      <td>1104.7400</td>\n",
       "    </tr>\n",
       "    <tr>\n",
       "      <th>4</th>\n",
       "      <td>2019/06/19</td>\n",
       "      <td>1102.3300</td>\n",
       "      <td>1339218.0000</td>\n",
       "      <td>1105.6000</td>\n",
       "      <td>1107.0000</td>\n",
       "      <td>1093.4800</td>\n",
       "    </tr>\n",
       "    <tr>\n",
       "      <th>5</th>\n",
       "      <td>2019/06/18</td>\n",
       "      <td>1103.6000</td>\n",
       "      <td>1386684.0000</td>\n",
       "      <td>1109.6900</td>\n",
       "      <td>1116.3900</td>\n",
       "      <td>1098.9900</td>\n",
       "    </tr>\n",
       "  </tbody>\n",
       "</table>\n",
       "</div>"
      ],
      "text/plain": [
       "         date      close        volume       open       high        low\n",
       "1  2019/06/24  1115.5200  1395696.0000  1119.6100  1122.0000  1111.0100\n",
       "2  2019/06/21  1121.8800  1947591.0000  1109.2400  1124.1100  1108.0800\n",
       "3  2019/06/20  1111.4200  1262011.0000  1119.9900  1120.1200  1104.7400\n",
       "4  2019/06/19  1102.3300  1339218.0000  1105.6000  1107.0000  1093.4800\n",
       "5  2019/06/18  1103.6000  1386684.0000  1109.6900  1116.3900  1098.9900"
      ]
     },
     "execution_count": 37,
     "metadata": {},
     "output_type": "execute_result"
    }
   ],
   "source": [
    "stock_data.head()"
   ]
  },
  {
   "cell_type": "code",
   "execution_count": 38,
   "metadata": {},
   "outputs": [
    {
     "data": {
      "text/html": [
       "<div>\n",
       "<style scoped>\n",
       "    .dataframe tbody tr th:only-of-type {\n",
       "        vertical-align: middle;\n",
       "    }\n",
       "\n",
       "    .dataframe tbody tr th {\n",
       "        vertical-align: top;\n",
       "    }\n",
       "\n",
       "    .dataframe thead th {\n",
       "        text-align: right;\n",
       "    }\n",
       "</style>\n",
       "<table border=\"1\" class=\"dataframe\">\n",
       "  <thead>\n",
       "    <tr style=\"text-align: right;\">\n",
       "      <th></th>\n",
       "      <th>date</th>\n",
       "      <th>close</th>\n",
       "      <th>volume</th>\n",
       "      <th>open</th>\n",
       "      <th>high</th>\n",
       "      <th>low</th>\n",
       "    </tr>\n",
       "  </thead>\n",
       "  <tbody>\n",
       "    <tr>\n",
       "      <th>count</th>\n",
       "      <td>1007</td>\n",
       "      <td>1007</td>\n",
       "      <td>1007</td>\n",
       "      <td>1007</td>\n",
       "      <td>1007</td>\n",
       "      <td>1007</td>\n",
       "    </tr>\n",
       "    <tr>\n",
       "      <th>unique</th>\n",
       "      <td>1007</td>\n",
       "      <td>995</td>\n",
       "      <td>1006</td>\n",
       "      <td>983</td>\n",
       "      <td>993</td>\n",
       "      <td>992</td>\n",
       "    </tr>\n",
       "    <tr>\n",
       "      <th>top</th>\n",
       "      <td>2018/06/07</td>\n",
       "      <td>1018.3800</td>\n",
       "      <td>2225495.0000</td>\n",
       "      <td>980.0000</td>\n",
       "      <td>1200.0000</td>\n",
       "      <td>1073.5000</td>\n",
       "    </tr>\n",
       "    <tr>\n",
       "      <th>freq</th>\n",
       "      <td>1</td>\n",
       "      <td>2</td>\n",
       "      <td>2</td>\n",
       "      <td>3</td>\n",
       "      <td>3</td>\n",
       "      <td>2</td>\n",
       "    </tr>\n",
       "  </tbody>\n",
       "</table>\n",
       "</div>"
      ],
      "text/plain": [
       "              date      close        volume      open       high        low\n",
       "count         1007       1007          1007      1007       1007       1007\n",
       "unique        1007        995          1006       983        993        992\n",
       "top     2018/06/07  1018.3800  2225495.0000  980.0000  1200.0000  1073.5000\n",
       "freq             1          2             2         3          3          2"
      ]
     },
     "execution_count": 38,
     "metadata": {},
     "output_type": "execute_result"
    }
   ],
   "source": [
    "stock_data.describe()"
   ]
  },
  {
   "cell_type": "code",
   "execution_count": 39,
   "metadata": {},
   "outputs": [],
   "source": [
    "for i in list(stock_data.columns):\n",
    "    if i != \"date\":\n",
    "        stock_data[i] = stock_data[i].astype('float', copy=True)\n",
    "    else:\n",
    "        stock_data[i] = pd.to_datetime(stock_data[i])"
   ]
  },
  {
   "cell_type": "code",
   "execution_count": 40,
   "metadata": {},
   "outputs": [
    {
     "name": "stdout",
     "output_type": "stream",
     "text": [
      "<class 'pandas.core.frame.DataFrame'>\n",
      "Int64Index: 1007 entries, 1 to 1007\n",
      "Data columns (total 6 columns):\n",
      "date      1007 non-null datetime64[ns]\n",
      "close     1007 non-null float64\n",
      "volume    1007 non-null float64\n",
      "open      1007 non-null float64\n",
      "high      1007 non-null float64\n",
      "low       1007 non-null float64\n",
      "dtypes: datetime64[ns](1), float64(5)\n",
      "memory usage: 55.1 KB\n"
     ]
    }
   ],
   "source": [
    "stock_data.info()"
   ]
  },
  {
   "cell_type": "code",
   "execution_count": 41,
   "metadata": {},
   "outputs": [
    {
     "data": {
      "text/html": [
       "<div>\n",
       "<style scoped>\n",
       "    .dataframe tbody tr th:only-of-type {\n",
       "        vertical-align: middle;\n",
       "    }\n",
       "\n",
       "    .dataframe tbody tr th {\n",
       "        vertical-align: top;\n",
       "    }\n",
       "\n",
       "    .dataframe thead th {\n",
       "        text-align: right;\n",
       "    }\n",
       "</style>\n",
       "<table border=\"1\" class=\"dataframe\">\n",
       "  <thead>\n",
       "    <tr style=\"text-align: right;\">\n",
       "      <th></th>\n",
       "      <th>date</th>\n",
       "      <th>close</th>\n",
       "      <th>volume</th>\n",
       "      <th>open</th>\n",
       "      <th>high</th>\n",
       "      <th>low</th>\n",
       "    </tr>\n",
       "  </thead>\n",
       "  <tbody>\n",
       "    <tr>\n",
       "      <th>1</th>\n",
       "      <td>2019-06-24</td>\n",
       "      <td>1115.52</td>\n",
       "      <td>1395696.0</td>\n",
       "      <td>1119.61</td>\n",
       "      <td>1122.00</td>\n",
       "      <td>1111.01</td>\n",
       "    </tr>\n",
       "    <tr>\n",
       "      <th>2</th>\n",
       "      <td>2019-06-21</td>\n",
       "      <td>1121.88</td>\n",
       "      <td>1947591.0</td>\n",
       "      <td>1109.24</td>\n",
       "      <td>1124.11</td>\n",
       "      <td>1108.08</td>\n",
       "    </tr>\n",
       "    <tr>\n",
       "      <th>3</th>\n",
       "      <td>2019-06-20</td>\n",
       "      <td>1111.42</td>\n",
       "      <td>1262011.0</td>\n",
       "      <td>1119.99</td>\n",
       "      <td>1120.12</td>\n",
       "      <td>1104.74</td>\n",
       "    </tr>\n",
       "    <tr>\n",
       "      <th>4</th>\n",
       "      <td>2019-06-19</td>\n",
       "      <td>1102.33</td>\n",
       "      <td>1339218.0</td>\n",
       "      <td>1105.60</td>\n",
       "      <td>1107.00</td>\n",
       "      <td>1093.48</td>\n",
       "    </tr>\n",
       "    <tr>\n",
       "      <th>5</th>\n",
       "      <td>2019-06-18</td>\n",
       "      <td>1103.60</td>\n",
       "      <td>1386684.0</td>\n",
       "      <td>1109.69</td>\n",
       "      <td>1116.39</td>\n",
       "      <td>1098.99</td>\n",
       "    </tr>\n",
       "  </tbody>\n",
       "</table>\n",
       "</div>"
      ],
      "text/plain": [
       "        date    close     volume     open     high      low\n",
       "1 2019-06-24  1115.52  1395696.0  1119.61  1122.00  1111.01\n",
       "2 2019-06-21  1121.88  1947591.0  1109.24  1124.11  1108.08\n",
       "3 2019-06-20  1111.42  1262011.0  1119.99  1120.12  1104.74\n",
       "4 2019-06-19  1102.33  1339218.0  1105.60  1107.00  1093.48\n",
       "5 2019-06-18  1103.60  1386684.0  1109.69  1116.39  1098.99"
      ]
     },
     "execution_count": 41,
     "metadata": {},
     "output_type": "execute_result"
    }
   ],
   "source": [
    "stock_data.head()"
   ]
  },
  {
   "cell_type": "code",
   "execution_count": 42,
   "metadata": {},
   "outputs": [],
   "source": [
    "stock_data[\"average\"] = (stock_data[\"high\"] + stock_data[\"low\"])/2"
   ]
  },
  {
   "cell_type": "code",
   "execution_count": 43,
   "metadata": {},
   "outputs": [
    {
     "data": {
      "text/html": [
       "<div>\n",
       "<style scoped>\n",
       "    .dataframe tbody tr th:only-of-type {\n",
       "        vertical-align: middle;\n",
       "    }\n",
       "\n",
       "    .dataframe tbody tr th {\n",
       "        vertical-align: top;\n",
       "    }\n",
       "\n",
       "    .dataframe thead th {\n",
       "        text-align: right;\n",
       "    }\n",
       "</style>\n",
       "<table border=\"1\" class=\"dataframe\">\n",
       "  <thead>\n",
       "    <tr style=\"text-align: right;\">\n",
       "      <th></th>\n",
       "      <th>date</th>\n",
       "      <th>close</th>\n",
       "      <th>volume</th>\n",
       "      <th>open</th>\n",
       "      <th>high</th>\n",
       "      <th>low</th>\n",
       "      <th>average</th>\n",
       "    </tr>\n",
       "  </thead>\n",
       "  <tbody>\n",
       "    <tr>\n",
       "      <th>1</th>\n",
       "      <td>2019-06-24</td>\n",
       "      <td>1115.52</td>\n",
       "      <td>1395696.0</td>\n",
       "      <td>1119.61</td>\n",
       "      <td>1122.00</td>\n",
       "      <td>1111.01</td>\n",
       "      <td>1116.505</td>\n",
       "    </tr>\n",
       "    <tr>\n",
       "      <th>2</th>\n",
       "      <td>2019-06-21</td>\n",
       "      <td>1121.88</td>\n",
       "      <td>1947591.0</td>\n",
       "      <td>1109.24</td>\n",
       "      <td>1124.11</td>\n",
       "      <td>1108.08</td>\n",
       "      <td>1116.095</td>\n",
       "    </tr>\n",
       "    <tr>\n",
       "      <th>3</th>\n",
       "      <td>2019-06-20</td>\n",
       "      <td>1111.42</td>\n",
       "      <td>1262011.0</td>\n",
       "      <td>1119.99</td>\n",
       "      <td>1120.12</td>\n",
       "      <td>1104.74</td>\n",
       "      <td>1112.430</td>\n",
       "    </tr>\n",
       "    <tr>\n",
       "      <th>4</th>\n",
       "      <td>2019-06-19</td>\n",
       "      <td>1102.33</td>\n",
       "      <td>1339218.0</td>\n",
       "      <td>1105.60</td>\n",
       "      <td>1107.00</td>\n",
       "      <td>1093.48</td>\n",
       "      <td>1100.240</td>\n",
       "    </tr>\n",
       "    <tr>\n",
       "      <th>5</th>\n",
       "      <td>2019-06-18</td>\n",
       "      <td>1103.60</td>\n",
       "      <td>1386684.0</td>\n",
       "      <td>1109.69</td>\n",
       "      <td>1116.39</td>\n",
       "      <td>1098.99</td>\n",
       "      <td>1107.690</td>\n",
       "    </tr>\n",
       "  </tbody>\n",
       "</table>\n",
       "</div>"
      ],
      "text/plain": [
       "        date    close     volume     open     high      low   average\n",
       "1 2019-06-24  1115.52  1395696.0  1119.61  1122.00  1111.01  1116.505\n",
       "2 2019-06-21  1121.88  1947591.0  1109.24  1124.11  1108.08  1116.095\n",
       "3 2019-06-20  1111.42  1262011.0  1119.99  1120.12  1104.74  1112.430\n",
       "4 2019-06-19  1102.33  1339218.0  1105.60  1107.00  1093.48  1100.240\n",
       "5 2019-06-18  1103.60  1386684.0  1109.69  1116.39  1098.99  1107.690"
      ]
     },
     "execution_count": 43,
     "metadata": {},
     "output_type": "execute_result"
    }
   ],
   "source": [
    "stock_data.head()"
   ]
  },
  {
   "cell_type": "code",
   "execution_count": 44,
   "metadata": {},
   "outputs": [],
   "source": [
    "vol_avg = [\"volume\", \"average\"]"
   ]
  },
  {
   "cell_type": "code",
   "execution_count": 45,
   "metadata": {},
   "outputs": [],
   "source": [
    "#input_feature= stock_data.iloc[:,[2,6]].values\n",
    "#input_data = input_feature"
   ]
  },
  {
   "cell_type": "code",
   "execution_count": 46,
   "metadata": {},
   "outputs": [],
   "source": [
    "input_feature = stock_data[vol_avg]"
   ]
  },
  {
   "cell_type": "code",
   "execution_count": 47,
   "metadata": {},
   "outputs": [],
   "source": [
    "input_data = np.array(input_feature)"
   ]
  },
  {
   "cell_type": "code",
   "execution_count": 48,
   "metadata": {},
   "outputs": [
    {
     "data": {
      "image/png": "[encoded data removed]",
      "text/plain": [
       "<Figure size 432x288 with 1 Axes>"
      ]
     },
     "metadata": {
      "needs_background": "light"
     },
     "output_type": "display_data"
    }
   ],
   "source": [
    "plt.plot(input_data[:,0])\n",
    "plt.title(\"Volume of stocks sold\")\n",
    "plt.xlabel(\"Time (latest-> oldest)\")\n",
    "plt.ylabel(\"Volume of stocks traded\")\n",
    "plt.show()"
   ]
  },
  {
   "cell_type": "code",
   "execution_count": 49,
   "metadata": {},
   "outputs": [
    {
     "data": {
      "text/plain": [
       "[<matplotlib.lines.Line2D at 0xf75b2b0>]"
      ]
     },
     "execution_count": 49,
     "metadata": {},
     "output_type": "execute_result"
    },
    {
     "data": {
      "image/png": "[encoded data removed]",
      "text/plain": [
       "<Figure size 432x288 with 1 Axes>"
      ]
     },
     "metadata": {
      "needs_background": "light"
     },
     "output_type": "display_data"
    }
   ],
   "source": [
    "plt.plot(input_feature[\"volume\"])"
   ]
  },
  {
   "cell_type": "code",
   "execution_count": 50,
   "metadata": {},
   "outputs": [
    {
     "data": {
      "image/png": "[encoded data removed]",
      "text/plain": [
       "<Figure size 432x288 with 1 Axes>"
      ]
     },
     "metadata": {
      "needs_background": "light"
     },
     "output_type": "display_data"
    }
   ],
   "source": [
    "plt.plot(input_data[:,1], color='blue')\n",
    "plt.title(\"Google Stock Prices\")\n",
    "plt.xlabel(\"Time (latest-> oldest)\")\n",
    "plt.ylabel(\"Stock Opening Price\")\n",
    "plt.show()"
   ]
  },
  {
   "cell_type": "code",
   "execution_count": 51,
   "metadata": {},
   "outputs": [],
   "source": [
    "from sklearn.preprocessing import MinMaxScaler\n",
    "sc= MinMaxScaler(feature_range=(0,1))\n",
    "input_data[:,0:2] = sc.fit_transform(input_data[:,:])"
   ]
  },
  {
   "cell_type": "markdown",
   "metadata": {},
   "source": [
    "# Go back  50 business days"
   ]
  },
  {
   "cell_type": "code",
   "execution_count": 52,
   "metadata": {},
   "outputs": [
    {
     "data": {
      "text/plain": [
       "1007"
      ]
     },
     "execution_count": 52,
     "metadata": {},
     "output_type": "execute_result"
    }
   ],
   "source": [
    "len(stock_data)"
   ]
  },
  {
   "cell_type": "code",
   "execution_count": 53,
   "metadata": {},
   "outputs": [],
   "source": [
    "lookback = 50\n",
    "\n",
    "test_size=int(.2 * len(stock_data))\n",
    "X=[]\n",
    "y=[]\n",
    "for i in range(len(stock_data)-lookback-1):\n",
    "#    print(i)\n",
    "#    print(\"break\")\n",
    "    t=[]\n",
    "    for j in range(0,lookback):\n",
    "#        print(j)\n",
    "        t.append(input_data[[(i+j)], :])\n",
    "    X.append(t)\n",
    "    y.append(input_data[i+ lookback,1])\n",
    "    \n",
    "#    print((i+j),(i+lookback))\n",
    "    "
   ]
  },
  {
   "cell_type": "code",
   "execution_count": 54,
   "metadata": {},
   "outputs": [
    {
     "data": {
      "text/plain": [
       "(956, 1007, 956)"
      ]
     },
     "execution_count": 54,
     "metadata": {},
     "output_type": "execute_result"
    }
   ],
   "source": [
    "len(X), len(stock_data), len(y)"
   ]
  },
  {
   "cell_type": "code",
   "execution_count": 55,
   "metadata": {},
   "outputs": [],
   "source": [
    "X = np.array(X)"
   ]
  },
  {
   "cell_type": "code",
   "execution_count": 56,
   "metadata": {},
   "outputs": [],
   "source": [
    "y = np.array(y)"
   ]
  },
  {
   "cell_type": "code",
   "execution_count": 57,
   "metadata": {},
   "outputs": [
    {
     "data": {
      "text/plain": [
       "201"
      ]
     },
     "execution_count": 57,
     "metadata": {},
     "output_type": "execute_result"
    }
   ],
   "source": [
    "test_size"
   ]
  },
  {
   "cell_type": "code",
   "execution_count": 58,
   "metadata": {},
   "outputs": [
    {
     "data": {
      "text/plain": [
       "50"
      ]
     },
     "execution_count": 58,
     "metadata": {},
     "output_type": "execute_result"
    }
   ],
   "source": [
    "lookback"
   ]
  },
  {
   "cell_type": "code",
   "execution_count": 59,
   "metadata": {},
   "outputs": [],
   "source": [
    "X_test = X[-(test_size+lookback):]\n",
    "y_test =  y[-(test_size+lookback):]"
   ]
  },
  {
   "cell_type": "code",
   "execution_count": 60,
   "metadata": {},
   "outputs": [],
   "source": [
    "X_train = X[:-(test_size+lookback)]"
   ]
  },
  {
   "cell_type": "code",
   "execution_count": 61,
   "metadata": {},
   "outputs": [],
   "source": [
    "y_train =  y[:-(test_size+lookback)]"
   ]
  },
  {
   "cell_type": "code",
   "execution_count": 62,
   "metadata": {},
   "outputs": [],
   "source": [
    "X_train = X_train.reshape(X_train.shape[0],lookback, 2)"
   ]
  },
  {
   "cell_type": "code",
   "execution_count": 63,
   "metadata": {},
   "outputs": [],
   "source": [
    "X_test = X_test.reshape(X_test.shape[0],lookback, 2)"
   ]
  },
  {
   "cell_type": "code",
   "execution_count": 64,
   "metadata": {},
   "outputs": [
    {
     "data": {
      "text/plain": [
       "(705, 50, 2)"
      ]
     },
     "execution_count": 64,
     "metadata": {},
     "output_type": "execute_result"
    }
   ],
   "source": [
    "X_train.shape"
   ]
  },
  {
   "cell_type": "code",
   "execution_count": 65,
   "metadata": {},
   "outputs": [
    {
     "data": {
      "text/plain": [
       "(251, 50, 2)"
      ]
     },
     "execution_count": 65,
     "metadata": {},
     "output_type": "execute_result"
    }
   ],
   "source": [
    "X_test.shape"
   ]
  },
  {
   "cell_type": "code",
   "execution_count": 66,
   "metadata": {},
   "outputs": [
    {
     "ename": "ModuleNotFoundError",
     "evalue": "No module named 'keras'",
     "output_type": "error",
     "traceback": [
      "\u001b[1;31m---------------------------------------------------------------------------\u001b[0m",
      "\u001b[1;31mModuleNotFoundError\u001b[0m                       Traceback (most recent call last)",
      "\u001b[1;32m<ipython-input-66-ba4b928bf232>\u001b[0m in \u001b[0;36m<module>\u001b[1;34m\u001b[0m\n\u001b[1;32m----> 1\u001b[1;33m \u001b[1;32mfrom\u001b[0m \u001b[0mkeras\u001b[0m \u001b[1;32mimport\u001b[0m \u001b[0mSequential\u001b[0m\u001b[1;33m\u001b[0m\u001b[1;33m\u001b[0m\u001b[0m\n\u001b[0m\u001b[0;32m      2\u001b[0m \u001b[1;32mfrom\u001b[0m \u001b[0mkeras\u001b[0m\u001b[1;33m.\u001b[0m\u001b[0mlayers\u001b[0m \u001b[1;32mimport\u001b[0m \u001b[0mDense\u001b[0m\u001b[1;33m,\u001b[0m \u001b[0mLSTM\u001b[0m\u001b[1;33m\u001b[0m\u001b[1;33m\u001b[0m\u001b[0m\n",
      "\u001b[1;31mModuleNotFoundError\u001b[0m: No module named 'keras'"
     ]
    }
   ],
   "source": [
    "from keras import Sequential\n",
    "from keras.layers import Dense, LSTM"
   ]
  },
  {
   "cell_type": "code",
   "execution_count": 38,
   "metadata": {},
   "outputs": [
    {
     "name": "stdout",
     "output_type": "stream",
     "text": [
      "WARNING:tensorflow:From /opt/conda/lib/python3.7/site-packages/tensorflow/python/framework/op_def_library.py:263: colocate_with (from tensorflow.python.framework.ops) is deprecated and will be removed in a future version.\n",
      "Instructions for updating:\n",
      "Colocations handled automatically by placer.\n",
      "_________________________________________________________________\n",
      "Layer (type)                 Output Shape              Param #   \n",
      "=================================================================\n",
      "lstm_1 (LSTM)                (None, 50, 20)            1840      \n",
      "_________________________________________________________________\n",
      "lstm_2 (LSTM)                (None, 50, 20)            3280      \n",
      "_________________________________________________________________\n",
      "lstm_3 (LSTM)                (None, 20)                3280      \n",
      "_________________________________________________________________\n",
      "dense_1 (Dense)              (None, 1)                 21        \n",
      "=================================================================\n",
      "Total params: 8,421\n",
      "Trainable params: 8,421\n",
      "Non-trainable params: 0\n",
      "_________________________________________________________________\n"
     ]
    }
   ],
   "source": [
    "model = Sequential()\n",
    "model.add(LSTM(units=20, return_sequences= True, input_shape=(X.shape[1],2)))\n",
    "model.add(LSTM(units=20, return_sequences=True))\n",
    "model.add(LSTM(units=20))\n",
    "model.add(Dense(units=1))\n",
    "model.summary()"
   ]
  },
  {
   "cell_type": "code",
   "execution_count": 39,
   "metadata": {},
   "outputs": [],
   "source": [
    "model.compile(optimizer='adam', loss='mean_squared_error')"
   ]
  },
  {
   "cell_type": "code",
   "execution_count": 40,
   "metadata": {},
   "outputs": [
    {
     "name": "stdout",
     "output_type": "stream",
     "text": [
      "WARNING:tensorflow:From /opt/conda/lib/python3.7/site-packages/tensorflow/python/ops/math_ops.py:3066: to_int32 (from tensorflow.python.ops.math_ops) is deprecated and will be removed in a future version.\n",
      "Instructions for updating:\n",
      "Use tf.cast instead.\n",
      "Epoch 1/100\n",
      "705/705 [==============================] - 8s 12ms/step - loss: 0.1233\n",
      "Epoch 2/100\n",
      "705/705 [==============================] - 6s 9ms/step - loss: 0.0118\n",
      "Epoch 3/100\n",
      "705/705 [==============================] - 6s 9ms/step - loss: 0.0070\n",
      "Epoch 4/100\n",
      "705/705 [==============================] - 6s 9ms/step - loss: 0.0039\n",
      "Epoch 5/100\n",
      "705/705 [==============================] - 7s 10ms/step - loss: 0.0027\n",
      "Epoch 6/100\n",
      "705/705 [==============================] - 6s 9ms/step - loss: 0.0025\n",
      "Epoch 7/100\n",
      "705/705 [==============================] - 7s 10ms/step - loss: 0.0024\n",
      "Epoch 8/100\n",
      "705/705 [==============================] - 5s 8ms/step - loss: 0.0024\n",
      "Epoch 9/100\n",
      "705/705 [==============================] - 6s 8ms/step - loss: 0.0022\n",
      "Epoch 11/100\n",
      "705/705 [==============================] - 6s 9ms/step - loss: 0.0024\n",
      "Epoch 12/100\n",
      "705/705 [==============================] - 6s 9ms/step - loss: 0.0021\n",
      "Epoch 13/100\n",
      "705/705 [==============================] - 5s 8ms/step - loss: 0.0019\n",
      "Epoch 14/100\n",
      "705/705 [==============================] - 7s 9ms/step - loss: 0.0024\n",
      "Epoch 15/100\n",
      "705/705 [==============================] - 7s 9ms/step - loss: 0.0026\n",
      "Epoch 16/100\n",
      "705/705 [==============================] - 6s 8ms/step - loss: 0.0018\n",
      "Epoch 17/100\n",
      "705/705 [==============================] - 5s 8ms/step - loss: 0.0017\n",
      "Epoch 18/100\n",
      "705/705 [==============================] - 6s 9ms/step - loss: 0.0018\n",
      "Epoch 19/100\n",
      "705/705 [==============================] - 5s 8ms/step - loss: 0.0020\n",
      "Epoch 20/100\n",
      "705/705 [==============================] - 6s 8ms/step - loss: 0.0018\n",
      "Epoch 21/100\n",
      "705/705 [==============================] - 6s 9ms/step - loss: 0.0017\n",
      "Epoch 22/100\n",
      "705/705 [==============================] - 6s 8ms/step - loss: 0.0018\n",
      "Epoch 23/100\n",
      "705/705 [==============================] - 6s 9ms/step - loss: 0.0017\n",
      "Epoch 24/100\n",
      "705/705 [==============================] - 6s 9ms/step - loss: 0.0017\n",
      "Epoch 25/100\n",
      "705/705 [==============================] - 6s 9ms/step - loss: 0.0016\n",
      "Epoch 26/100\n",
      "705/705 [==============================] - 6s 8ms/step - loss: 0.0015\n",
      "Epoch 27/100\n",
      "705/705 [==============================] - 5s 7ms/step - loss: 0.0022\n",
      "Epoch 28/100\n",
      "705/705 [==============================] - 6s 8ms/step - loss: 0.0017\n",
      "Epoch 29/100\n",
      "705/705 [==============================] - 5s 8ms/step - loss: 0.0015\n",
      "Epoch 30/100\n",
      "705/705 [==============================] - 5s 8ms/step - loss: 0.0015\n",
      "Epoch 31/100\n",
      "705/705 [==============================] - 6s 8ms/step - loss: 0.0017\n",
      "Epoch 32/100\n",
      "705/705 [==============================] - 5s 8ms/step - loss: 0.0017\n",
      "Epoch 33/100\n",
      "705/705 [==============================] - 6s 8ms/step - loss: 0.0015\n",
      "Epoch 34/100\n",
      "705/705 [==============================] - 6s 9ms/step - loss: 0.0016\n",
      "Epoch 35/100\n",
      "705/705 [==============================] - 6s 9ms/step - loss: 0.0015\n",
      "Epoch 37/100\n",
      "705/705 [==============================] - 6s 9ms/step - loss: 0.0015\n",
      "Epoch 38/100\n",
      "705/705 [==============================] - 5s 8ms/step - loss: 0.0014\n",
      "Epoch 39/100\n",
      "705/705 [==============================] - 6s 9ms/step - loss: 0.0015\n",
      "Epoch 40/100\n",
      "705/705 [==============================] - 6s 8ms/step - loss: 0.0014\n",
      "Epoch 41/100\n",
      "705/705 [==============================] - 6s 8ms/step - loss: 0.0017\n",
      "Epoch 42/100\n",
      "705/705 [==============================] - 6s 8ms/step - loss: 0.0016\n",
      "Epoch 43/100\n",
      "705/705 [==============================] - 6s 9ms/step - loss: 0.0015\n",
      "Epoch 44/100\n",
      "705/705 [==============================] - 6s 9ms/step - loss: 0.0014\n",
      "Epoch 45/100\n",
      "705/705 [==============================] - 6s 9ms/step - loss: 0.0013\n",
      "Epoch 46/100\n",
      "705/705 [==============================] - 6s 9ms/step - loss: 0.0013\n",
      "Epoch 47/100\n",
      "705/705 [==============================] - 6s 8ms/step - loss: 0.0014\n",
      "Epoch 48/100\n",
      "705/705 [==============================] - 6s 8ms/step - loss: 0.0014\n",
      "Epoch 49/100\n",
      "705/705 [==============================] - 7s 9ms/step - loss: 0.0013\n",
      "Epoch 50/100\n",
      "705/705 [==============================] - 7s 10ms/step - loss: 0.0013\n",
      "Epoch 51/100\n",
      "705/705 [==============================] - 6s 8ms/step - loss: 0.0013\n",
      "Epoch 52/100\n",
      "705/705 [==============================] - 6s 8ms/step - loss: 0.0013\n",
      "Epoch 53/100\n",
      "705/705 [==============================] - 7s 9ms/step - loss: 0.0015\n",
      "Epoch 54/100\n",
      "705/705 [==============================] - 6s 9ms/step - loss: 0.0012\n",
      "Epoch 55/100\n",
      "705/705 [==============================] - 6s 9ms/step - loss: 0.0012\n",
      "Epoch 56/100\n",
      "705/705 [==============================] - 6s 9ms/step - loss: 0.0012\n",
      "Epoch 57/100\n",
      "705/705 [==============================] - 6s 8ms/step - loss: 0.0012\n",
      "Epoch 58/100\n",
      "705/705 [==============================] - 6s 8ms/step - loss: 0.0012\n",
      "Epoch 59/100\n",
      "705/705 [==============================] - 6s 9ms/step - loss: 0.0023\n",
      "Epoch 60/100\n",
      "705/705 [==============================] - 6s 8ms/step - loss: 0.0014\n",
      "Epoch 61/100\n",
      "705/705 [==============================] - 6s 9ms/step - loss: 0.0014\n",
      "Epoch 62/100\n",
      "705/705 [==============================] - 7s 10ms/step - loss: 0.0012\n",
      "Epoch 63/100\n",
      "705/705 [==============================] - 6s 9ms/step - loss: 0.0013\n",
      "Epoch 64/100\n",
      "705/705 [==============================] - 6s 9ms/step - loss: 0.0013\n",
      "Epoch 65/100\n",
      "705/705 [==============================] - 7s 9ms/step - loss: 0.0014\n",
      "Epoch 66/100\n",
      "705/705 [==============================] - 6s 9ms/step - loss: 0.0011\n",
      "Epoch 67/100\n",
      "705/705 [==============================] - 6s 8ms/step - loss: 0.0012\n",
      "Epoch 68/100\n",
      "705/705 [==============================] - 6s 9ms/step - loss: 0.0012\n",
      "Epoch 69/100\n",
      "705/705 [==============================] - 7s 9ms/step - loss: 0.0012\n",
      "Epoch 70/100\n",
      "705/705 [==============================] - 6s 9ms/step - loss: 0.0011\n",
      "Epoch 71/100\n",
      "705/705 [==============================] - 7s 10ms/step - loss: 0.0012\n",
      "Epoch 72/100\n",
      "705/705 [==============================] - 6s 9ms/step - loss: 0.0011\n",
      "Epoch 73/100\n",
      "705/705 [==============================] - 5s 8ms/step - loss: 0.0011\n",
      "Epoch 74/100\n",
      "705/705 [==============================] - 6s 8ms/step - loss: 0.0011\n",
      "Epoch 75/100\n",
      "705/705 [==============================] - 7s 9ms/step - loss: 0.0010\n",
      "Epoch 76/100\n",
      "705/705 [==============================] - 7s 10ms/step - loss: 0.0010\n",
      "Epoch 77/100\n",
      "705/705 [==============================] - 6s 9ms/step - loss: 9.9563e-04\n",
      "Epoch 78/100\n",
      "705/705 [==============================] - 6s 9ms/step - loss: 0.0010\n",
      "Epoch 79/100\n",
      "705/705 [==============================] - 6s 9ms/step - loss: 0.0011\n",
      "Epoch 80/100\n",
      "705/705 [==============================] - 5s 8ms/step - loss: 0.0010\n",
      "Epoch 81/100\n",
      "705/705 [==============================] - 7s 9ms/step - loss: 0.0011\n",
      "Epoch 82/100\n",
      "705/705 [==============================] - 7s 10ms/step - loss: 9.9388e-04\n",
      "Epoch 83/100\n",
      "705/705 [==============================] - 7s 9ms/step - loss: 8.9764e-04\n",
      "Epoch 84/100\n",
      "705/705 [==============================] - 7s 10ms/step - loss: 8.9043e-04\n",
      "Epoch 85/100\n",
      "705/705 [==============================] - 6s 9ms/step - loss: 9.0938e-04\n",
      "Epoch 86/100\n",
      "705/705 [==============================] - 7s 9ms/step - loss: 9.0605e-04\n",
      "Epoch 87/100\n",
      "705/705 [==============================] - 7s 9ms/step - loss: 9.0577e-04\n",
      "Epoch 88/100\n",
      "705/705 [==============================] - 7s 9ms/step - loss: 8.5706e-04\n",
      "Epoch 89/100\n",
      "705/705 [==============================] - 6s 9ms/step - loss: 8.2890e-04\n",
      "Epoch 90/100\n",
      "705/705 [==============================] - 7s 9ms/step - loss: 8.1587e-04\n",
      "Epoch 91/100\n",
      "705/705 [==============================] - 6s 9ms/step - loss: 7.9041e-04\n",
      "Epoch 92/100\n",
      "705/705 [==============================] - 6s 9ms/step - loss: 7.7121e-04\n",
      "Epoch 93/100\n",
      "705/705 [==============================] - 6s 8ms/step - loss: 8.6359e-04\n",
      "Epoch 94/100\n",
      "705/705 [==============================] - 5s 8ms/step - loss: 8.6299e-04\n",
      "Epoch 95/100\n",
      "705/705 [==============================] - 6s 8ms/step - loss: 0.0010\n",
      "Epoch 96/100\n",
      "705/705 [==============================] - 6s 9ms/step - loss: 9.1538e-04\n",
      "Epoch 97/100\n",
      "705/705 [==============================] - 6s 8ms/step - loss: 7.7200e-04\n",
      "Epoch 98/100\n",
      "705/705 [==============================] - 6s 8ms/step - loss: 7.6812e-04\n",
      "Epoch 99/100\n",
      "705/705 [==============================] - 6s 9ms/step - loss: 0.0011\n",
      "Epoch 100/100\n",
      "705/705 [==============================] - 6s 8ms/step - loss: 6.8224e-04\n"
     ]
    },
    {
     "data": {
      "text/plain": [
       "<keras.callbacks.History at 0x7fe2c5c50d68>"
      ]
     },
     "execution_count": 40,
     "metadata": {},
     "output_type": "execute_result"
    }
   ],
   "source": [
    "model.fit(X_train, y_train, epochs=100, batch_size=32)"
   ]
  },
  {
   "cell_type": "code",
   "execution_count": 41,
   "metadata": {},
   "outputs": [],
   "source": [
    "y_pred= model.predict(X_test)"
   ]
  },
  {
   "cell_type": "code",
   "execution_count": 42,
   "metadata": {},
   "outputs": [
    {
     "data": {
      "text/plain": [
       "array([[0.23906948],\n",
       "       [0.23945904],\n",
       "       [0.23859157],\n",
       "       [0.23815973],\n",
       "       [0.24066225],\n",
       "       [0.2438534 ],\n",
       "       [0.24639839],\n",
       "       [0.24819392],\n",
       "       [0.24956186],\n",
       "       [0.2506666 ],\n",
       "       [0.251599  ],\n",
       "       [0.25337216],\n",
       "       [0.255001  ],\n",
       "       [0.2566358 ],\n",
       "       [0.25792947],\n",
       "       [0.25932178],\n",
       "       [0.2610249 ],\n",
       "       [0.26455948],\n",
       "       [0.26855585],\n",
       "       [0.27116835],\n",
       "       [0.27228552],\n",
       "       [0.27205646],\n",
       "       [0.26944137],\n",
       "       [0.26611626],\n",
       "       [0.2621544 ],\n",
       "       [0.258589  ],\n",
       "       [0.25661284],\n",
       "       [0.25493398],\n",
       "       [0.25346133],\n",
       "       [0.25240216],\n",
       "       [0.25261408],\n",
       "       [0.25371543],\n",
       "       [0.25481528],\n",
       "       [0.25548276],\n",
       "       [0.2549342 ],\n",
       "       [0.2530718 ],\n",
       "       [0.25016895],\n",
       "       [0.24705121],\n",
       "       [0.24534948],\n",
       "       [0.24617743],\n",
       "       [0.24918419],\n",
       "       [0.2536794 ],\n",
       "       [0.25774607],\n",
       "       [0.26879975],\n",
       "       [0.28164163],\n",
       "       [0.29102805],\n",
       "       [0.29799613],\n",
       "       [0.30241415],\n",
       "       [0.30510947],\n",
       "       [0.30531332],\n",
       "       [0.30462682],\n",
       "       [0.30214018],\n",
       "       [0.29860452],\n",
       "       [0.2949951 ],\n",
       "       [0.29224065],\n",
       "       [0.2897088 ],\n",
       "       [0.28747258],\n",
       "       [0.28624517],\n",
       "       [0.2864453 ],\n",
       "       [0.28802872],\n",
       "       [0.29102632],\n",
       "       [0.29371268],\n",
       "       [0.294194  ],\n",
       "       [0.29315466],\n",
       "       [0.29149842],\n",
       "       [0.28952596],\n",
       "       [0.28840536],\n",
       "       [0.290144  ],\n",
       "       [0.29195687],\n",
       "       [0.29210013],\n",
       "       [0.2907427 ],\n",
       "       [0.28863022],\n",
       "       [0.28618154],\n",
       "       [0.28438047],\n",
       "       [0.27993253],\n",
       "       [0.27427155],\n",
       "       [0.27011415],\n",
       "       [0.26693994],\n",
       "       [0.2647803 ],\n",
       "       [0.2631821 ],\n",
       "       [0.26246312],\n",
       "       [0.2625951 ],\n",
       "       [0.26298562],\n",
       "       [0.261727  ],\n",
       "       [0.25905314],\n",
       "       [0.2563741 ],\n",
       "       [0.2545594 ],\n",
       "       [0.2524744 ],\n",
       "       [0.25101194],\n",
       "       [0.2509822 ],\n",
       "       [0.2514362 ],\n",
       "       [0.25088754],\n",
       "       [0.25028044],\n",
       "       [0.24989815],\n",
       "       [0.25091127],\n",
       "       [0.25326312],\n",
       "       [0.25910655],\n",
       "       [0.26915663],\n",
       "       [0.28653395],\n",
       "       [0.3117524 ],\n",
       "       [0.33501592],\n",
       "       [0.34766546],\n",
       "       [0.34792483],\n",
       "       [0.33806664],\n",
       "       [0.32256258],\n",
       "       [0.30728963],\n",
       "       [0.2954452 ],\n",
       "       [0.2870008 ],\n",
       "       [0.2820278 ],\n",
       "       [0.27832407],\n",
       "       [0.27720442],\n",
       "       [0.27620715],\n",
       "       [0.2761784 ],\n",
       "       [0.27654582],\n",
       "       [0.27641207],\n",
       "       [0.27719712],\n",
       "       [0.28014603],\n",
       "       [0.28338024],\n",
       "       [0.2868692 ],\n",
       "       [0.29222208],\n",
       "       [0.29719788],\n",
       "       [0.30166262],\n",
       "       [0.30660233],\n",
       "       [0.3098533 ],\n",
       "       [0.30887088],\n",
       "       [0.30680865],\n",
       "       [0.30440256],\n",
       "       [0.30208164],\n",
       "       [0.30321822],\n",
       "       [0.3046671 ],\n",
       "       [0.30615506],\n",
       "       [0.30874354],\n",
       "       [0.31027228],\n",
       "       [0.31050053],\n",
       "       [0.31001684],\n",
       "       [0.31076267],\n",
       "       [0.31161752],\n",
       "       [0.31264132],\n",
       "       [0.31546468],\n",
       "       [0.31897756],\n",
       "       [0.32250264],\n",
       "       [0.324735  ],\n",
       "       [0.32470787],\n",
       "       [0.3208691 ],\n",
       "       [0.31528813],\n",
       "       [0.31155017],\n",
       "       [0.3090319 ],\n",
       "       [0.30856875],\n",
       "       [0.30701607],\n",
       "       [0.30452657],\n",
       "       [0.30065745],\n",
       "       [0.29623052],\n",
       "       [0.29237136],\n",
       "       [0.28960544],\n",
       "       [0.28725332],\n",
       "       [0.28489894],\n",
       "       [0.2835649 ],\n",
       "       [0.2824285 ],\n",
       "       [0.28225332],\n",
       "       [0.28203794],\n",
       "       [0.28075752],\n",
       "       [0.2787136 ],\n",
       "       [0.27631614],\n",
       "       [0.27312696],\n",
       "       [0.2703847 ],\n",
       "       [0.2684377 ],\n",
       "       [0.26809376],\n",
       "       [0.27676257],\n",
       "       [0.28171295],\n",
       "       [0.2771438 ],\n",
       "       [0.26728785],\n",
       "       [0.2544762 ],\n",
       "       [0.24146916],\n",
       "       [0.23005514],\n",
       "       [0.22002926],\n",
       "       [0.2119086 ],\n",
       "       [0.20457268],\n",
       "       [0.19825798],\n",
       "       [0.19336383],\n",
       "       [0.18994105],\n",
       "       [0.1879592 ],\n",
       "       [0.18600024],\n",
       "       [0.18382356],\n",
       "       [0.17978884],\n",
       "       [0.17485067],\n",
       "       [0.16917607],\n",
       "       [0.16451341],\n",
       "       [0.16091952],\n",
       "       [0.15842217],\n",
       "       [0.15614767],\n",
       "       [0.15520027],\n",
       "       [0.15500313],\n",
       "       [0.1598155 ],\n",
       "       [0.16545375],\n",
       "       [0.16865641],\n",
       "       [0.17004523],\n",
       "       [0.16922975],\n",
       "       [0.16641447],\n",
       "       [0.16293563],\n",
       "       [0.15927172],\n",
       "       [0.15613417],\n",
       "       [0.15288368],\n",
       "       [0.14971498],\n",
       "       [0.14759241],\n",
       "       [0.14772922],\n",
       "       [0.14894666],\n",
       "       [0.15061395],\n",
       "       [0.15447298],\n",
       "       [0.16010617],\n",
       "       [0.16460912],\n",
       "       [0.16977385],\n",
       "       [0.17527257],\n",
       "       [0.18019876],\n",
       "       [0.18385197],\n",
       "       [0.18541232],\n",
       "       [0.18479155],\n",
       "       [0.18291636],\n",
       "       [0.1817358 ],\n",
       "       [0.18323964],\n",
       "       [0.19051105],\n",
       "       [0.19526856],\n",
       "       [0.1956975 ],\n",
       "       [0.19302505],\n",
       "       [0.18982898],\n",
       "       [0.18542498],\n",
       "       [0.18005882],\n",
       "       [0.17493178],\n",
       "       [0.1702241 ],\n",
       "       [0.16623327],\n",
       "       [0.16320324],\n",
       "       [0.162214  ],\n",
       "       [0.16459087],\n",
       "       [0.16961382],\n",
       "       [0.17807208],\n",
       "       [0.18783997],\n",
       "       [0.20130222],\n",
       "       [0.2270747 ],\n",
       "       [0.24167581],\n",
       "       [0.23778136],\n",
       "       [0.22318517],\n",
       "       [0.20214622],\n",
       "       [0.17864783],\n",
       "       [0.15531461],\n",
       "       [0.133252  ],\n",
       "       [0.11369801],\n",
       "       [0.09691295],\n",
       "       [0.08293615],\n",
       "       [0.07216968],\n",
       "       [0.06459882],\n",
       "       [0.05946315],\n",
       "       [0.05653874]], dtype=float32)"
      ]
     },
     "execution_count": 42,
     "metadata": {},
     "output_type": "execute_result"
    }
   ],
   "source": [
    "y_pred"
   ]
  },
  {
   "cell_type": "code",
   "execution_count": 43,
   "metadata": {},
   "outputs": [
    {
     "data": {
      "image/png": "[encoded data removed]",
      "text/plain": [
       "<Figure size 432x288 with 1 Axes>"
      ]
     },
     "metadata": {
      "needs_background": "light"
     },
     "output_type": "display_data"
    }
   ],
   "source": [
    "fig, ax = plt.subplots()\n",
    "ax.plot(y_test, y_pred, 'o', mfc = 'none')\n",
    "ax.plot([y_test.min(), y_pred.max()], [y_test.min(), y_test.max()], 'k--', lw=4)\n",
    "ax.set_xlabel('Actual')\n",
    "ax.set_ylabel('Predicted')\n",
    "plt.show()"
   ]
  },
  {
   "cell_type": "code",
   "execution_count": null,
   "metadata": {},
   "outputs": [],
   "source": []
  }
 ],
 "metadata": {
  "kernelspec": {
   "display_name": "Python 3",
   "language": "python",
   "name": "python3"
  },
  "language_info": {
   "codemirror_mode": {
    "name": "ipython",
    "version": 3
   },
   "file_extension": ".py",
   "mimetype": "text/x-python",
   "name": "python",
   "nbconvert_exporter": "python",
   "pygments_lexer": "ipython3",
   "version": "3.7.4"
  }
 },
 "nbformat": 4,
 "nbformat_minor": 2
}
