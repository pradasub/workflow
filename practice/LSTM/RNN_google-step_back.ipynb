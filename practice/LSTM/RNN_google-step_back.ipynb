{
 "cells": [
  {
   "cell_type": "code",
   "execution_count": 1,
   "metadata": {},
   "outputs": [],
   "source": [
    "import numpy as np\n",
    "import pandas as pd\n",
    "import matplotlib.pyplot as plt\n",
    "import os\n",
    "%matplotlib inline"
   ]
  },
  {
   "cell_type": "code",
   "execution_count": 2,
   "metadata": {},
   "outputs": [],
   "source": [
    "os.chdir(\"C:/Users/pz413sz/Documents/test_workflows\")\n",
    "data_path = \"datasets/HistoricalQuotes.csv\""
   ]
  },
  {
   "cell_type": "code",
   "execution_count": 3,
   "metadata": {},
   "outputs": [],
   "source": [
    "stock_data = pd.read_csv(data_path)"
   ]
  },
  {
   "cell_type": "code",
   "execution_count": 53,
   "metadata": {},
   "outputs": [
    {
     "data": {
      "text/html": [
       "<div>\n",
       "<style scoped>\n",
       "    .dataframe tbody tr th:only-of-type {\n",
       "        vertical-align: middle;\n",
       "    }\n",
       "\n",
       "    .dataframe tbody tr th {\n",
       "        vertical-align: top;\n",
       "    }\n",
       "\n",
       "    .dataframe thead th {\n",
       "        text-align: right;\n",
       "    }\n",
       "</style>\n",
       "<table border=\"1\" class=\"dataframe\">\n",
       "  <thead>\n",
       "    <tr style=\"text-align: right;\">\n",
       "      <th></th>\n",
       "      <th>date</th>\n",
       "      <th>close</th>\n",
       "      <th>volume</th>\n",
       "      <th>open</th>\n",
       "      <th>high</th>\n",
       "      <th>low</th>\n",
       "    </tr>\n",
       "  </thead>\n",
       "  <tbody>\n",
       "    <tr>\n",
       "      <th>0</th>\n",
       "      <td>14:52</td>\n",
       "      <td>1,087.5058</td>\n",
       "      <td>1,017,434</td>\n",
       "      <td>1,112.66</td>\n",
       "      <td>1,114.35</td>\n",
       "      <td>1,084.42</td>\n",
       "    </tr>\n",
       "    <tr>\n",
       "      <th>1</th>\n",
       "      <td>2019/06/24</td>\n",
       "      <td>1115.5200</td>\n",
       "      <td>1395696.0000</td>\n",
       "      <td>1119.6100</td>\n",
       "      <td>1122.0000</td>\n",
       "      <td>1111.0100</td>\n",
       "    </tr>\n",
       "    <tr>\n",
       "      <th>2</th>\n",
       "      <td>2019/06/21</td>\n",
       "      <td>1121.8800</td>\n",
       "      <td>1947591.0000</td>\n",
       "      <td>1109.2400</td>\n",
       "      <td>1124.1100</td>\n",
       "      <td>1108.0800</td>\n",
       "    </tr>\n",
       "    <tr>\n",
       "      <th>3</th>\n",
       "      <td>2019/06/20</td>\n",
       "      <td>1111.4200</td>\n",
       "      <td>1262011.0000</td>\n",
       "      <td>1119.9900</td>\n",
       "      <td>1120.1200</td>\n",
       "      <td>1104.7400</td>\n",
       "    </tr>\n",
       "    <tr>\n",
       "      <th>4</th>\n",
       "      <td>2019/06/19</td>\n",
       "      <td>1102.3300</td>\n",
       "      <td>1339218.0000</td>\n",
       "      <td>1105.6000</td>\n",
       "      <td>1107.0000</td>\n",
       "      <td>1093.4800</td>\n",
       "    </tr>\n",
       "  </tbody>\n",
       "</table>\n",
       "</div>"
      ],
      "text/plain": [
       "         date       close        volume       open       high        low\n",
       "0       14:52  1,087.5058     1,017,434   1,112.66   1,114.35   1,084.42\n",
       "1  2019/06/24   1115.5200  1395696.0000  1119.6100  1122.0000  1111.0100\n",
       "2  2019/06/21   1121.8800  1947591.0000  1109.2400  1124.1100  1108.0800\n",
       "3  2019/06/20   1111.4200  1262011.0000  1119.9900  1120.1200  1104.7400\n",
       "4  2019/06/19   1102.3300  1339218.0000  1105.6000  1107.0000  1093.4800"
      ]
     },
     "execution_count": 53,
     "metadata": {},
     "output_type": "execute_result"
    }
   ],
   "source": [
    "stock_data.head()"
   ]
  },
  {
   "cell_type": "code",
   "execution_count": 54,
   "metadata": {},
   "outputs": [],
   "source": [
    "stock_data.drop([0], axis = 0, inplace = True)"
   ]
  },
  {
   "cell_type": "code",
   "execution_count": 55,
   "metadata": {},
   "outputs": [
    {
     "data": {
      "text/html": [
       "<div>\n",
       "<style scoped>\n",
       "    .dataframe tbody tr th:only-of-type {\n",
       "        vertical-align: middle;\n",
       "    }\n",
       "\n",
       "    .dataframe tbody tr th {\n",
       "        vertical-align: top;\n",
       "    }\n",
       "\n",
       "    .dataframe thead th {\n",
       "        text-align: right;\n",
       "    }\n",
       "</style>\n",
       "<table border=\"1\" class=\"dataframe\">\n",
       "  <thead>\n",
       "    <tr style=\"text-align: right;\">\n",
       "      <th></th>\n",
       "      <th>date</th>\n",
       "      <th>close</th>\n",
       "      <th>volume</th>\n",
       "      <th>open</th>\n",
       "      <th>high</th>\n",
       "      <th>low</th>\n",
       "    </tr>\n",
       "  </thead>\n",
       "  <tbody>\n",
       "    <tr>\n",
       "      <th>1</th>\n",
       "      <td>2019/06/24</td>\n",
       "      <td>1115.5200</td>\n",
       "      <td>1395696.0000</td>\n",
       "      <td>1119.6100</td>\n",
       "      <td>1122.0000</td>\n",
       "      <td>1111.0100</td>\n",
       "    </tr>\n",
       "    <tr>\n",
       "      <th>2</th>\n",
       "      <td>2019/06/21</td>\n",
       "      <td>1121.8800</td>\n",
       "      <td>1947591.0000</td>\n",
       "      <td>1109.2400</td>\n",
       "      <td>1124.1100</td>\n",
       "      <td>1108.0800</td>\n",
       "    </tr>\n",
       "    <tr>\n",
       "      <th>3</th>\n",
       "      <td>2019/06/20</td>\n",
       "      <td>1111.4200</td>\n",
       "      <td>1262011.0000</td>\n",
       "      <td>1119.9900</td>\n",
       "      <td>1120.1200</td>\n",
       "      <td>1104.7400</td>\n",
       "    </tr>\n",
       "    <tr>\n",
       "      <th>4</th>\n",
       "      <td>2019/06/19</td>\n",
       "      <td>1102.3300</td>\n",
       "      <td>1339218.0000</td>\n",
       "      <td>1105.6000</td>\n",
       "      <td>1107.0000</td>\n",
       "      <td>1093.4800</td>\n",
       "    </tr>\n",
       "    <tr>\n",
       "      <th>5</th>\n",
       "      <td>2019/06/18</td>\n",
       "      <td>1103.6000</td>\n",
       "      <td>1386684.0000</td>\n",
       "      <td>1109.6900</td>\n",
       "      <td>1116.3900</td>\n",
       "      <td>1098.9900</td>\n",
       "    </tr>\n",
       "  </tbody>\n",
       "</table>\n",
       "</div>"
      ],
      "text/plain": [
       "         date      close        volume       open       high        low\n",
       "1  2019/06/24  1115.5200  1395696.0000  1119.6100  1122.0000  1111.0100\n",
       "2  2019/06/21  1121.8800  1947591.0000  1109.2400  1124.1100  1108.0800\n",
       "3  2019/06/20  1111.4200  1262011.0000  1119.9900  1120.1200  1104.7400\n",
       "4  2019/06/19  1102.3300  1339218.0000  1105.6000  1107.0000  1093.4800\n",
       "5  2019/06/18  1103.6000  1386684.0000  1109.6900  1116.3900  1098.9900"
      ]
     },
     "execution_count": 55,
     "metadata": {},
     "output_type": "execute_result"
    }
   ],
   "source": [
    "stock_data.head()"
   ]
  },
  {
   "cell_type": "code",
   "execution_count": 56,
   "metadata": {},
   "outputs": [
    {
     "data": {
      "text/html": [
       "<div>\n",
       "<style scoped>\n",
       "    .dataframe tbody tr th:only-of-type {\n",
       "        vertical-align: middle;\n",
       "    }\n",
       "\n",
       "    .dataframe tbody tr th {\n",
       "        vertical-align: top;\n",
       "    }\n",
       "\n",
       "    .dataframe thead th {\n",
       "        text-align: right;\n",
       "    }\n",
       "</style>\n",
       "<table border=\"1\" class=\"dataframe\">\n",
       "  <thead>\n",
       "    <tr style=\"text-align: right;\">\n",
       "      <th></th>\n",
       "      <th>date</th>\n",
       "      <th>close</th>\n",
       "      <th>volume</th>\n",
       "      <th>open</th>\n",
       "      <th>high</th>\n",
       "      <th>low</th>\n",
       "    </tr>\n",
       "  </thead>\n",
       "  <tbody>\n",
       "    <tr>\n",
       "      <th>count</th>\n",
       "      <td>1007</td>\n",
       "      <td>1007</td>\n",
       "      <td>1007</td>\n",
       "      <td>1007</td>\n",
       "      <td>1007</td>\n",
       "      <td>1007</td>\n",
       "    </tr>\n",
       "    <tr>\n",
       "      <th>unique</th>\n",
       "      <td>1007</td>\n",
       "      <td>995</td>\n",
       "      <td>1006</td>\n",
       "      <td>983</td>\n",
       "      <td>993</td>\n",
       "      <td>992</td>\n",
       "    </tr>\n",
       "    <tr>\n",
       "      <th>top</th>\n",
       "      <td>2016/06/15</td>\n",
       "      <td>1018.3800</td>\n",
       "      <td>2225495.0000</td>\n",
       "      <td>980.0000</td>\n",
       "      <td>1200.0000</td>\n",
       "      <td>710.0100</td>\n",
       "    </tr>\n",
       "    <tr>\n",
       "      <th>freq</th>\n",
       "      <td>1</td>\n",
       "      <td>2</td>\n",
       "      <td>2</td>\n",
       "      <td>3</td>\n",
       "      <td>3</td>\n",
       "      <td>2</td>\n",
       "    </tr>\n",
       "  </tbody>\n",
       "</table>\n",
       "</div>"
      ],
      "text/plain": [
       "              date      close        volume      open       high       low\n",
       "count         1007       1007          1007      1007       1007      1007\n",
       "unique        1007        995          1006       983        993       992\n",
       "top     2016/06/15  1018.3800  2225495.0000  980.0000  1200.0000  710.0100\n",
       "freq             1          2             2         3          3         2"
      ]
     },
     "execution_count": 56,
     "metadata": {},
     "output_type": "execute_result"
    }
   ],
   "source": [
    "stock_data.describe()"
   ]
  },
  {
   "cell_type": "code",
   "execution_count": 57,
   "metadata": {},
   "outputs": [],
   "source": [
    "for i in list(stock_data.columns):\n",
    "    if i != \"date\":\n",
    "        stock_data[i] = stock_data[i].astype('float', copy=True)\n",
    "    else:\n",
    "        stock_data[i] = pd.to_datetime(stock_data[i])"
   ]
  },
  {
   "cell_type": "code",
   "execution_count": 58,
   "metadata": {},
   "outputs": [
    {
     "name": "stdout",
     "output_type": "stream",
     "text": [
      "<class 'pandas.core.frame.DataFrame'>\n",
      "Int64Index: 1007 entries, 1 to 1007\n",
      "Data columns (total 6 columns):\n",
      "date      1007 non-null datetime64[ns]\n",
      "close     1007 non-null float64\n",
      "volume    1007 non-null float64\n",
      "open      1007 non-null float64\n",
      "high      1007 non-null float64\n",
      "low       1007 non-null float64\n",
      "dtypes: datetime64[ns](1), float64(5)\n",
      "memory usage: 55.1 KB\n"
     ]
    }
   ],
   "source": [
    "stock_data.info()"
   ]
  },
  {
   "cell_type": "code",
   "execution_count": 59,
   "metadata": {},
   "outputs": [
    {
     "data": {
      "text/html": [
       "<div>\n",
       "<style scoped>\n",
       "    .dataframe tbody tr th:only-of-type {\n",
       "        vertical-align: middle;\n",
       "    }\n",
       "\n",
       "    .dataframe tbody tr th {\n",
       "        vertical-align: top;\n",
       "    }\n",
       "\n",
       "    .dataframe thead th {\n",
       "        text-align: right;\n",
       "    }\n",
       "</style>\n",
       "<table border=\"1\" class=\"dataframe\">\n",
       "  <thead>\n",
       "    <tr style=\"text-align: right;\">\n",
       "      <th></th>\n",
       "      <th>date</th>\n",
       "      <th>close</th>\n",
       "      <th>volume</th>\n",
       "      <th>open</th>\n",
       "      <th>high</th>\n",
       "      <th>low</th>\n",
       "    </tr>\n",
       "  </thead>\n",
       "  <tbody>\n",
       "    <tr>\n",
       "      <th>1</th>\n",
       "      <td>2019-06-24</td>\n",
       "      <td>1115.52</td>\n",
       "      <td>1395696.0</td>\n",
       "      <td>1119.61</td>\n",
       "      <td>1122.00</td>\n",
       "      <td>1111.01</td>\n",
       "    </tr>\n",
       "    <tr>\n",
       "      <th>2</th>\n",
       "      <td>2019-06-21</td>\n",
       "      <td>1121.88</td>\n",
       "      <td>1947591.0</td>\n",
       "      <td>1109.24</td>\n",
       "      <td>1124.11</td>\n",
       "      <td>1108.08</td>\n",
       "    </tr>\n",
       "    <tr>\n",
       "      <th>3</th>\n",
       "      <td>2019-06-20</td>\n",
       "      <td>1111.42</td>\n",
       "      <td>1262011.0</td>\n",
       "      <td>1119.99</td>\n",
       "      <td>1120.12</td>\n",
       "      <td>1104.74</td>\n",
       "    </tr>\n",
       "    <tr>\n",
       "      <th>4</th>\n",
       "      <td>2019-06-19</td>\n",
       "      <td>1102.33</td>\n",
       "      <td>1339218.0</td>\n",
       "      <td>1105.60</td>\n",
       "      <td>1107.00</td>\n",
       "      <td>1093.48</td>\n",
       "    </tr>\n",
       "    <tr>\n",
       "      <th>5</th>\n",
       "      <td>2019-06-18</td>\n",
       "      <td>1103.60</td>\n",
       "      <td>1386684.0</td>\n",
       "      <td>1109.69</td>\n",
       "      <td>1116.39</td>\n",
       "      <td>1098.99</td>\n",
       "    </tr>\n",
       "  </tbody>\n",
       "</table>\n",
       "</div>"
      ],
      "text/plain": [
       "        date    close     volume     open     high      low\n",
       "1 2019-06-24  1115.52  1395696.0  1119.61  1122.00  1111.01\n",
       "2 2019-06-21  1121.88  1947591.0  1109.24  1124.11  1108.08\n",
       "3 2019-06-20  1111.42  1262011.0  1119.99  1120.12  1104.74\n",
       "4 2019-06-19  1102.33  1339218.0  1105.60  1107.00  1093.48\n",
       "5 2019-06-18  1103.60  1386684.0  1109.69  1116.39  1098.99"
      ]
     },
     "execution_count": 59,
     "metadata": {},
     "output_type": "execute_result"
    }
   ],
   "source": [
    "stock_data.head()"
   ]
  },
  {
   "cell_type": "code",
   "execution_count": 60,
   "metadata": {},
   "outputs": [],
   "source": [
    "stock_data[\"average\"] = (stock_data[\"high\"] + stock_data[\"low\"])/2"
   ]
  },
  {
   "cell_type": "code",
   "execution_count": 61,
   "metadata": {},
   "outputs": [
    {
     "data": {
      "text/html": [
       "<div>\n",
       "<style scoped>\n",
       "    .dataframe tbody tr th:only-of-type {\n",
       "        vertical-align: middle;\n",
       "    }\n",
       "\n",
       "    .dataframe tbody tr th {\n",
       "        vertical-align: top;\n",
       "    }\n",
       "\n",
       "    .dataframe thead th {\n",
       "        text-align: right;\n",
       "    }\n",
       "</style>\n",
       "<table border=\"1\" class=\"dataframe\">\n",
       "  <thead>\n",
       "    <tr style=\"text-align: right;\">\n",
       "      <th></th>\n",
       "      <th>date</th>\n",
       "      <th>close</th>\n",
       "      <th>volume</th>\n",
       "      <th>open</th>\n",
       "      <th>high</th>\n",
       "      <th>low</th>\n",
       "      <th>average</th>\n",
       "    </tr>\n",
       "  </thead>\n",
       "  <tbody>\n",
       "    <tr>\n",
       "      <th>1</th>\n",
       "      <td>2019-06-24</td>\n",
       "      <td>1115.52</td>\n",
       "      <td>1395696.0</td>\n",
       "      <td>1119.61</td>\n",
       "      <td>1122.00</td>\n",
       "      <td>1111.01</td>\n",
       "      <td>1116.505</td>\n",
       "    </tr>\n",
       "    <tr>\n",
       "      <th>2</th>\n",
       "      <td>2019-06-21</td>\n",
       "      <td>1121.88</td>\n",
       "      <td>1947591.0</td>\n",
       "      <td>1109.24</td>\n",
       "      <td>1124.11</td>\n",
       "      <td>1108.08</td>\n",
       "      <td>1116.095</td>\n",
       "    </tr>\n",
       "    <tr>\n",
       "      <th>3</th>\n",
       "      <td>2019-06-20</td>\n",
       "      <td>1111.42</td>\n",
       "      <td>1262011.0</td>\n",
       "      <td>1119.99</td>\n",
       "      <td>1120.12</td>\n",
       "      <td>1104.74</td>\n",
       "      <td>1112.430</td>\n",
       "    </tr>\n",
       "    <tr>\n",
       "      <th>4</th>\n",
       "      <td>2019-06-19</td>\n",
       "      <td>1102.33</td>\n",
       "      <td>1339218.0</td>\n",
       "      <td>1105.60</td>\n",
       "      <td>1107.00</td>\n",
       "      <td>1093.48</td>\n",
       "      <td>1100.240</td>\n",
       "    </tr>\n",
       "    <tr>\n",
       "      <th>5</th>\n",
       "      <td>2019-06-18</td>\n",
       "      <td>1103.60</td>\n",
       "      <td>1386684.0</td>\n",
       "      <td>1109.69</td>\n",
       "      <td>1116.39</td>\n",
       "      <td>1098.99</td>\n",
       "      <td>1107.690</td>\n",
       "    </tr>\n",
       "  </tbody>\n",
       "</table>\n",
       "</div>"
      ],
      "text/plain": [
       "        date    close     volume     open     high      low   average\n",
       "1 2019-06-24  1115.52  1395696.0  1119.61  1122.00  1111.01  1116.505\n",
       "2 2019-06-21  1121.88  1947591.0  1109.24  1124.11  1108.08  1116.095\n",
       "3 2019-06-20  1111.42  1262011.0  1119.99  1120.12  1104.74  1112.430\n",
       "4 2019-06-19  1102.33  1339218.0  1105.60  1107.00  1093.48  1100.240\n",
       "5 2019-06-18  1103.60  1386684.0  1109.69  1116.39  1098.99  1107.690"
      ]
     },
     "execution_count": 61,
     "metadata": {},
     "output_type": "execute_result"
    }
   ],
   "source": [
    "stock_data.head()"
   ]
  },
  {
   "cell_type": "code",
   "execution_count": 62,
   "metadata": {},
   "outputs": [],
   "source": [
    "vol_avg = [\"volume\", \"average\"]"
   ]
  },
  {
   "cell_type": "code",
   "execution_count": 63,
   "metadata": {},
   "outputs": [],
   "source": [
    "#input_feature= stock_data.iloc[:,[2,6]].values\n",
    "#input_data = input_feature"
   ]
  },
  {
   "cell_type": "code",
   "execution_count": 64,
   "metadata": {},
   "outputs": [],
   "source": [
    "input_feature = stock_data[vol_avg]"
   ]
  },
  {
   "cell_type": "code",
   "execution_count": 65,
   "metadata": {},
   "outputs": [],
   "source": [
    "input_data = np.array(input_feature)"
   ]
  },
  {
   "cell_type": "code",
   "execution_count": 66,
   "metadata": {},
   "outputs": [
    {
     "data": {
      "image/png": "[encoded data removed]",
      "text/plain": [
       "<Figure size 432x288 with 1 Axes>"
      ]
     },
     "metadata": {
      "needs_background": "light"
     },
     "output_type": "display_data"
    }
   ],
   "source": [
    "plt.plot(input_data[:,0])\n",
    "plt.title(\"Volume of stocks sold\")\n",
    "plt.xlabel(\"Time (latest-> oldest)\")\n",
    "plt.ylabel(\"Volume of stocks traded\")\n",
    "plt.show()"
   ]
  },
  {
   "cell_type": "code",
   "execution_count": 67,
   "metadata": {},
   "outputs": [
    {
     "data": {
      "text/plain": [
       "[<matplotlib.lines.Line2D at 0x7fe715e844e0>]"
      ]
     },
     "execution_count": 67,
     "metadata": {},
     "output_type": "execute_result"
    },
    {
     "data": {
      "image/png": "[encoded data removed]",
      "text/plain": [
       "<Figure size 432x288 with 1 Axes>"
      ]
     },
     "metadata": {
      "needs_background": "light"
     },
     "output_type": "display_data"
    }
   ],
   "source": [
    "plt.plot(input_feature[\"volume\"])"
   ]
  },
  {
   "cell_type": "code",
   "execution_count": 68,
   "metadata": {},
   "outputs": [
    {
     "data": {
      "image/png": "[encoded data removed]",
      "text/plain": [
       "<Figure size 432x288 with 1 Axes>"
      ]
     },
     "metadata": {
      "needs_background": "light"
     },
     "output_type": "display_data"
    }
   ],
   "source": [
    "plt.plot(input_data[:,1], color='blue')\n",
    "plt.title(\"Google Stock Prices\")\n",
    "plt.xlabel(\"Time (latest-> oldest)\")\n",
    "plt.ylabel(\"Stock Opening Price\")\n",
    "plt.show()"
   ]
  },
  {
   "cell_type": "code",
   "execution_count": 69,
   "metadata": {},
   "outputs": [],
   "source": [
    "from sklearn.preprocessing import MinMaxScaler\n",
    "sc= MinMaxScaler(feature_range=(0,1))\n",
    "input_data[:,0:2] = sc.fit_transform(input_data[:,:])"
   ]
  },
  {
   "cell_type": "markdown",
   "metadata": {},
   "source": [
    "# Go back  50 business days"
   ]
  },
  {
   "cell_type": "code",
   "execution_count": 70,
   "metadata": {},
   "outputs": [
    {
     "data": {
      "text/plain": [
       "1007"
      ]
     },
     "execution_count": 70,
     "metadata": {},
     "output_type": "execute_result"
    }
   ],
   "source": [
    "len(stock_data)"
   ]
  },
  {
   "cell_type": "code",
   "execution_count": 71,
   "metadata": {},
   "outputs": [],
   "source": [
    "lookback = 50\n",
    "\n",
    "test_size=int(.3 * len(stock_data))\n",
    "X=[]\n",
    "y=[]\n",
    "for i in range(len(stock_data)-lookback-1):\n",
    "#    print(i)\n",
    "#    print(\"break\")\n",
    "    t=[]\n",
    "    for j in range(0,lookback):\n",
    "#        print(j)\n",
    "        t.append(input_data[[(i+j)], :])\n",
    "    X.append(t)\n",
    "    y.append(input_data[i+ lookback-1,1])\n",
    "    \n",
    "#    print((i+j),(i+lookback))\n",
    "    "
   ]
  },
  {
   "cell_type": "code",
   "execution_count": 72,
   "metadata": {},
   "outputs": [
    {
     "data": {
      "text/plain": [
       "(956, 1007, 956)"
      ]
     },
     "execution_count": 72,
     "metadata": {},
     "output_type": "execute_result"
    }
   ],
   "source": [
    "len(X), len(stock_data), len(y)"
   ]
  },
  {
   "cell_type": "code",
   "execution_count": 73,
   "metadata": {},
   "outputs": [],
   "source": [
    "X = np.array(X)"
   ]
  },
  {
   "cell_type": "code",
   "execution_count": 74,
   "metadata": {},
   "outputs": [],
   "source": [
    "y = np.array(y)"
   ]
  },
  {
   "cell_type": "code",
   "execution_count": 75,
   "metadata": {},
   "outputs": [
    {
     "data": {
      "text/plain": [
       "302"
      ]
     },
     "execution_count": 75,
     "metadata": {},
     "output_type": "execute_result"
    }
   ],
   "source": [
    "test_size"
   ]
  },
  {
   "cell_type": "code",
   "execution_count": 76,
   "metadata": {},
   "outputs": [
    {
     "data": {
      "text/plain": [
       "50"
      ]
     },
     "execution_count": 76,
     "metadata": {},
     "output_type": "execute_result"
    }
   ],
   "source": [
    "lookback"
   ]
  },
  {
   "cell_type": "code",
   "execution_count": 77,
   "metadata": {},
   "outputs": [],
   "source": [
    "X_test = X[-(test_size+lookback):]\n",
    "y_test =  y[-(test_size+lookback):]"
   ]
  },
  {
   "cell_type": "code",
   "execution_count": 78,
   "metadata": {},
   "outputs": [],
   "source": [
    "X_train = X[:-(test_size+lookback)]"
   ]
  },
  {
   "cell_type": "code",
   "execution_count": 79,
   "metadata": {},
   "outputs": [],
   "source": [
    "y_train =  y[:-(test_size+lookback)]"
   ]
  },
  {
   "cell_type": "code",
   "execution_count": 80,
   "metadata": {},
   "outputs": [
    {
     "data": {
      "text/plain": [
       "(604, 50, 1, 2)"
      ]
     },
     "execution_count": 80,
     "metadata": {},
     "output_type": "execute_result"
    }
   ],
   "source": [
    "X_train.shape"
   ]
  },
  {
   "cell_type": "code",
   "execution_count": null,
   "metadata": {},
   "outputs": [],
   "source": []
  },
  {
   "cell_type": "code",
   "execution_count": null,
   "metadata": {},
   "outputs": [],
   "source": [
    "X_train = X_train.reshape(X_train.shape[0],lookback, 2)"
   ]
  },
  {
   "cell_type": "code",
   "execution_count": null,
   "metadata": {},
   "outputs": [],
   "source": [
    "X_test = X_test.reshape(X_test.shape[0],lookback, 2)"
   ]
  },
  {
   "cell_type": "code",
   "execution_count": null,
   "metadata": {},
   "outputs": [
    {
     "data": {
      "text/plain": [
       "(604, 50, 2)"
      ]
     },
     "execution_count": 35,
     "metadata": {},
     "output_type": "execute_result"
    }
   ],
   "source": [
    "X_train.shape"
   ]
  },
  {
   "cell_type": "code",
   "execution_count": null,
   "metadata": {},
   "outputs": [
    {
     "data": {
      "text/plain": [
       "(352, 50, 2)"
      ]
     },
     "execution_count": 36,
     "metadata": {},
     "output_type": "execute_result"
    }
   ],
   "source": [
    "X_test.shape"
   ]
  },
  {
   "cell_type": "code",
   "execution_count": null,
   "metadata": {},
   "outputs": [
    {
     "name": "stderr",
     "output_type": "stream",
     "text": [
      "Using TensorFlow backend.\n"
     ]
    }
   ],
   "source": [
    "from keras import Sequential\n",
    "from keras.layers import Dense, LSTM"
   ]
  },
  {
   "cell_type": "code",
   "execution_count": null,
   "metadata": {},
   "outputs": [
    {
     "name": "stdout",
     "output_type": "stream",
     "text": [
      "WARNING:tensorflow:From /opt/conda/lib/python3.7/site-packages/tensorflow/python/framework/op_def_library.py:263: colocate_with (from tensorflow.python.framework.ops) is deprecated and will be removed in a future version.\n",
      "Instructions for updating:\n",
      "Colocations handled automatically by placer.\n",
      "_________________________________________________________________\n",
      "Layer (type)                 Output Shape              Param #   \n",
      "=================================================================\n",
      "lstm_1 (LSTM)                (None, 50, 20)            1840      \n",
      "_________________________________________________________________\n",
      "lstm_2 (LSTM)                (None, 50, 20)            3280      \n",
      "_________________________________________________________________\n",
      "lstm_3 (LSTM)                (None, 20)                3280      \n",
      "_________________________________________________________________\n",
      "dense_1 (Dense)              (None, 1)                 21        \n",
      "=================================================================\n",
      "Total params: 8,421\n",
      "Trainable params: 8,421\n",
      "Non-trainable params: 0\n",
      "_________________________________________________________________\n"
     ]
    }
   ],
   "source": [
    "model = Sequential()\n",
    "model.add(LSTM(units=20, return_sequences= True, input_shape=(X.shape[1],2)))\n",
    "model.add(LSTM(units=20, return_sequences=True))\n",
    "model.add(LSTM(units=20))\n",
    "model.add(Dense(units=1))\n",
    "model.summary()"
   ]
  },
  {
   "cell_type": "code",
   "execution_count": null,
   "metadata": {},
   "outputs": [],
   "source": [
    "model.compile(optimizer='adam', loss='mean_squared_error')"
   ]
  },
  {
   "cell_type": "code",
   "execution_count": null,
   "metadata": {},
   "outputs": [
    {
     "name": "stdout",
     "output_type": "stream",
     "text": [
      "WARNING:tensorflow:From /opt/conda/lib/python3.7/site-packages/tensorflow/python/ops/math_ops.py:3066: to_int32 (from tensorflow.python.ops.math_ops) is deprecated and will be removed in a future version.\n",
      "Instructions for updating:\n",
      "Use tf.cast instead.\n",
      "Epoch 1/200\n",
      "604/604 [==============================] - 6s 9ms/step - loss: 0.2389\n",
      "Epoch 2/200\n",
      "604/604 [==============================] - 5s 8ms/step - loss: 0.0201\n",
      "Epoch 3/200\n",
      "604/604 [==============================] - 5s 8ms/step - loss: 0.0079\n",
      "Epoch 4/200\n",
      "604/604 [==============================] - 5s 8ms/step - loss: 0.0054\n",
      "Epoch 5/200\n",
      "604/604 [==============================] - 5s 7ms/step - loss: 0.0040\n",
      "Epoch 6/200\n",
      "604/604 [==============================] - 4s 7ms/step - loss: 0.0031\n",
      "Epoch 7/200\n",
      "604/604 [==============================] - 5s 8ms/step - loss: 0.0026\n",
      "Epoch 8/200\n",
      "480/604 [======================>.......] - ETA: 0s - loss: 0.0024"
     ]
    }
   ],
   "source": [
    "model.fit(X_train, y_train, epochs=200, batch_size=32)"
   ]
  },
  {
   "cell_type": "code",
   "execution_count": 44,
   "metadata": {},
   "outputs": [],
   "source": [
    "y_pred= model.predict(X_test)"
   ]
  },
  {
   "cell_type": "code",
   "execution_count": 45,
   "metadata": {},
   "outputs": [
    {
     "data": {
      "text/plain": [
       "array([[0.31911272],\n",
       "       [0.31454298],\n",
       "       [0.31323516],\n",
       "       [0.32225308],\n",
       "       [0.33423856],\n",
       "       [0.3436691 ],\n",
       "       [0.3466957 ],\n",
       "       [0.34121817],\n",
       "       [0.33387578],\n",
       "       [0.32997286],\n",
       "       [0.33223668],\n",
       "       [0.3393433 ],\n",
       "       [0.35471702],\n",
       "       [0.36638615],\n",
       "       [0.37180468],\n",
       "       [0.3751929 ],\n",
       "       [0.3768383 ],\n",
       "       [0.37265876],\n",
       "       [0.36841828],\n",
       "       [0.36613944],\n",
       "       [0.363595  ],\n",
       "       [0.35714144],\n",
       "       [0.35002777],\n",
       "       [0.34417513],\n",
       "       [0.3428821 ],\n",
       "       [0.34468696],\n",
       "       [0.34620628],\n",
       "       [0.3448626 ],\n",
       "       [0.34337348],\n",
       "       [0.34268785],\n",
       "       [0.3417634 ],\n",
       "       [0.3400594 ],\n",
       "       [0.33982718],\n",
       "       [0.34113985],\n",
       "       [0.34228262],\n",
       "       [0.3434402 ],\n",
       "       [0.34365204],\n",
       "       [0.34590062],\n",
       "       [0.34792557],\n",
       "       [0.3457871 ],\n",
       "       [0.34163836],\n",
       "       [0.33729675],\n",
       "       [0.3335748 ],\n",
       "       [0.3310188 ],\n",
       "       [0.32853785],\n",
       "       [0.32588568],\n",
       "       [0.32403424],\n",
       "       [0.32423544],\n",
       "       [0.32809922],\n",
       "       [0.3333293 ],\n",
       "       [0.33692637],\n",
       "       [0.3371926 ],\n",
       "       [0.3348578 ],\n",
       "       [0.33187434],\n",
       "       [0.33051178],\n",
       "       [0.33047622],\n",
       "       [0.3310425 ],\n",
       "       [0.33082795],\n",
       "       [0.33116102],\n",
       "       [0.33275354],\n",
       "       [0.33408535],\n",
       "       [0.335783  ],\n",
       "       [0.33876526],\n",
       "       [0.34083185],\n",
       "       [0.341898  ],\n",
       "       [0.3442902 ],\n",
       "       [0.34639457],\n",
       "       [0.34904617],\n",
       "       [0.35100335],\n",
       "       [0.35186598],\n",
       "       [0.3508258 ],\n",
       "       [0.34820196],\n",
       "       [0.34396246],\n",
       "       [0.33966   ],\n",
       "       [0.33697549],\n",
       "       [0.33573887],\n",
       "       [0.33749333],\n",
       "       [0.33293152],\n",
       "       [0.32323095],\n",
       "       [0.3122068 ],\n",
       "       [0.30342418],\n",
       "       [0.29760358],\n",
       "       [0.29383317],\n",
       "       [0.2918516 ],\n",
       "       [0.28937778],\n",
       "       [0.285962  ],\n",
       "       [0.28128883],\n",
       "       [0.27640906],\n",
       "       [0.27255416],\n",
       "       [0.26982304],\n",
       "       [0.266554  ],\n",
       "       [0.26127717],\n",
       "       [0.25441247],\n",
       "       [0.24859545],\n",
       "       [0.24402896],\n",
       "       [0.24151544],\n",
       "       [0.23881805],\n",
       "       [0.23571113],\n",
       "       [0.23159291],\n",
       "       [0.22639377],\n",
       "       [0.22597694],\n",
       "       [0.22876425],\n",
       "       [0.23171599],\n",
       "       [0.23392487],\n",
       "       [0.23562974],\n",
       "       [0.238252  ],\n",
       "       [0.2417883 ],\n",
       "       [0.24629398],\n",
       "       [0.25009996],\n",
       "       [0.25332707],\n",
       "       [0.25579536],\n",
       "       [0.25845662],\n",
       "       [0.2609341 ],\n",
       "       [0.26189294],\n",
       "       [0.26219395],\n",
       "       [0.26337993],\n",
       "       [0.2658558 ],\n",
       "       [0.26984495],\n",
       "       [0.27458286],\n",
       "       [0.27748433],\n",
       "       [0.27767825],\n",
       "       [0.27636462],\n",
       "       [0.2727811 ],\n",
       "       [0.26734897],\n",
       "       [0.26226386],\n",
       "       [0.25719815],\n",
       "       [0.25405142],\n",
       "       [0.25394434],\n",
       "       [0.25485104],\n",
       "       [0.25596038],\n",
       "       [0.25702864],\n",
       "       [0.25883546],\n",
       "       [0.2608872 ],\n",
       "       [0.26153618],\n",
       "       [0.25946018],\n",
       "       [0.25514016],\n",
       "       [0.24969614],\n",
       "       [0.2448587 ],\n",
       "       [0.24151038],\n",
       "       [0.23952235],\n",
       "       [0.24064906],\n",
       "       [0.24355286],\n",
       "       [0.24915062],\n",
       "       [0.2552329 ],\n",
       "       [0.26782355],\n",
       "       [0.28418776],\n",
       "       [0.29634833],\n",
       "       [0.30504733],\n",
       "       [0.30993348],\n",
       "       [0.31077713],\n",
       "       [0.30822834],\n",
       "       [0.3039524 ],\n",
       "       [0.29695553],\n",
       "       [0.29101452],\n",
       "       [0.28733835],\n",
       "       [0.28617114],\n",
       "       [0.28635   ],\n",
       "       [0.28682306],\n",
       "       [0.28944242],\n",
       "       [0.29195854],\n",
       "       [0.29452404],\n",
       "       [0.2985521 ],\n",
       "       [0.29894993],\n",
       "       [0.29656836],\n",
       "       [0.29320592],\n",
       "       [0.29177812],\n",
       "       [0.29177237],\n",
       "       [0.29180956],\n",
       "       [0.29228678],\n",
       "       [0.29301202],\n",
       "       [0.29141164],\n",
       "       [0.2882355 ],\n",
       "       [0.2853312 ],\n",
       "       [0.28151706],\n",
       "       [0.2760682 ],\n",
       "       [0.2677766 ],\n",
       "       [0.2589553 ],\n",
       "       [0.25314254],\n",
       "       [0.2518981 ],\n",
       "       [0.25325963],\n",
       "       [0.25558814],\n",
       "       [0.25674224],\n",
       "       [0.25619256],\n",
       "       [0.25518692],\n",
       "       [0.251862  ],\n",
       "       [0.24652754],\n",
       "       [0.2431379 ],\n",
       "       [0.24282981],\n",
       "       [0.24213928],\n",
       "       [0.24230343],\n",
       "       [0.24276376],\n",
       "       [0.24175516],\n",
       "       [0.23879716],\n",
       "       [0.23503281],\n",
       "       [0.23358563],\n",
       "       [0.23400402],\n",
       "       [0.23507425],\n",
       "       [0.24230075],\n",
       "       [0.2579463 ],\n",
       "       [0.28767145],\n",
       "       [0.3317935 ],\n",
       "       [0.3676025 ],\n",
       "       [0.37898594],\n",
       "       [0.36562937],\n",
       "       [0.3355682 ],\n",
       "       [0.3023854 ],\n",
       "       [0.2773989 ],\n",
       "       [0.26285064],\n",
       "       [0.2531234 ],\n",
       "       [0.24578501],\n",
       "       [0.24106407],\n",
       "       [0.24005748],\n",
       "       [0.24060647],\n",
       "       [0.24428596],\n",
       "       [0.24936931],\n",
       "       [0.25191903],\n",
       "       [0.25527248],\n",
       "       [0.2608208 ],\n",
       "       [0.26722136],\n",
       "       [0.27444655],\n",
       "       [0.28119546],\n",
       "       [0.28979048],\n",
       "       [0.29970354],\n",
       "       [0.30922258],\n",
       "       [0.31221038],\n",
       "       [0.30873322],\n",
       "       [0.30385157],\n",
       "       [0.30030233],\n",
       "       [0.29754424],\n",
       "       [0.29740962],\n",
       "       [0.30037412],\n",
       "       [0.3031375 ],\n",
       "       [0.30587238],\n",
       "       [0.3046037 ],\n",
       "       [0.30259606],\n",
       "       [0.3026476 ],\n",
       "       [0.3048128 ],\n",
       "       [0.30867425],\n",
       "       [0.31289253],\n",
       "       [0.31663305],\n",
       "       [0.31876335],\n",
       "       [0.32169837],\n",
       "       [0.3219062 ],\n",
       "       [0.31792215],\n",
       "       [0.31198472],\n",
       "       [0.30644098],\n",
       "       [0.30272505],\n",
       "       [0.3028566 ],\n",
       "       [0.30384013],\n",
       "       [0.30155855],\n",
       "       [0.29686925],\n",
       "       [0.2904579 ],\n",
       "       [0.283351  ],\n",
       "       [0.27850953],\n",
       "       [0.27785927],\n",
       "       [0.27957132],\n",
       "       [0.27944893],\n",
       "       [0.2789564 ],\n",
       "       [0.2790164 ],\n",
       "       [0.28026593],\n",
       "       [0.28021038],\n",
       "       [0.27751875],\n",
       "       [0.27287945],\n",
       "       [0.26839903],\n",
       "       [0.26478058],\n",
       "       [0.261428  ],\n",
       "       [0.2591341 ],\n",
       "       [0.25854456],\n",
       "       [0.26699042],\n",
       "       [0.26377147],\n",
       "       [0.24981403],\n",
       "       [0.23480535],\n",
       "       [0.22188236],\n",
       "       [0.21175985],\n",
       "       [0.2041572 ],\n",
       "       [0.1975602 ],\n",
       "       [0.1919144 ],\n",
       "       [0.18607235],\n",
       "       [0.18059804],\n",
       "       [0.17568217],\n",
       "       [0.17264959],\n",
       "       [0.17151126],\n",
       "       [0.17019516],\n",
       "       [0.16679604],\n",
       "       [0.1608112 ],\n",
       "       [0.15439074],\n",
       "       [0.14788648],\n",
       "       [0.14340557],\n",
       "       [0.14201136],\n",
       "       [0.1425608 ],\n",
       "       [0.14372422],\n",
       "       [0.14532751],\n",
       "       [0.14735089],\n",
       "       [0.15311913],\n",
       "       [0.15901881],\n",
       "       [0.1619178 ],\n",
       "       [0.1624425 ],\n",
       "       [0.16011357],\n",
       "       [0.15607245],\n",
       "       [0.15166475],\n",
       "       [0.14775452],\n",
       "       [0.1442737 ],\n",
       "       [0.14023541],\n",
       "       [0.13740969],\n",
       "       [0.13587984],\n",
       "       [0.13601278],\n",
       "       [0.13847288],\n",
       "       [0.14232536],\n",
       "       [0.14805068],\n",
       "       [0.15338585],\n",
       "       [0.15526421],\n",
       "       [0.15746318],\n",
       "       [0.16231619],\n",
       "       [0.16916142],\n",
       "       [0.1757534 ],\n",
       "       [0.17938693],\n",
       "       [0.17938629],\n",
       "       [0.17715979],\n",
       "       [0.1750786 ],\n",
       "       [0.17496304],\n",
       "       [0.18029636],\n",
       "       [0.18086064],\n",
       "       [0.1774406 ],\n",
       "       [0.1727483 ],\n",
       "       [0.16923009],\n",
       "       [0.16533755],\n",
       "       [0.16137989],\n",
       "       [0.15822318],\n",
       "       [0.15589805],\n",
       "       [0.15438922],\n",
       "       [0.15366298],\n",
       "       [0.15398592],\n",
       "       [0.15690586],\n",
       "       [0.16309725],\n",
       "       [0.17372136],\n",
       "       [0.18488887],\n",
       "       [0.1989645 ],\n",
       "       [0.23199503],\n",
       "       [0.24480735],\n",
       "       [0.23081262],\n",
       "       [0.20598306],\n",
       "       [0.1753214 ],\n",
       "       [0.14445458],\n",
       "       [0.11668862],\n",
       "       [0.09300258],\n",
       "       [0.07447699],\n",
       "       [0.06060602],\n",
       "       [0.05077573],\n",
       "       [0.0445567 ],\n",
       "       [0.04128562],\n",
       "       [0.03998787],\n",
       "       [0.04064919]], dtype=float32)"
      ]
     },
     "execution_count": 45,
     "metadata": {},
     "output_type": "execute_result"
    }
   ],
   "source": [
    "y_pred"
   ]
  },
  {
   "cell_type": "code",
   "execution_count": 46,
   "metadata": {},
   "outputs": [
    {
     "data": {
      "image/png": "[encoded data removed]",
      "text/plain": [
       "<Figure size 432x288 with 1 Axes>"
      ]
     },
     "metadata": {
      "needs_background": "light"
     },
     "output_type": "display_data"
    }
   ],
   "source": [
    "fig, ax = plt.subplots()\n",
    "ax.plot(y_test, y_pred, 'o', mfc = 'none')\n",
    "ax.plot([y_test.min(), y_pred.max()], [y_test.min(), y_test.max()], 'k--', lw=4)\n",
    "ax.set_xlabel('Actual')\n",
    "ax.set_ylabel('Predicted')\n",
    "plt.show()"
   ]
  },
  {
   "cell_type": "code",
   "execution_count": null,
   "metadata": {},
   "outputs": [],
   "source": []
  }
 ],
 "metadata": {
  "kernelspec": {
   "display_name": "Python 3",
   "language": "python",
   "name": "python3"
  },
  "language_info": {
   "codemirror_mode": {
    "name": "ipython",
    "version": 3
   },
   "file_extension": ".py",
   "mimetype": "text/x-python",
   "name": "python",
   "nbconvert_exporter": "python",
   "pygments_lexer": "ipython3",
   "version": "3.7.4"
  }
 },
 "nbformat": 4,
 "nbformat_minor": 2
}
